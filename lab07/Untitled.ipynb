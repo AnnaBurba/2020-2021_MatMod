{
 "cells": [
  {
   "cell_type": "code",
   "execution_count": 1,
   "metadata": {},
   "outputs": [],
   "source": [
    "#Burba Anna, NPIbd-02-18, variant 49"
   ]
  },
  {
   "cell_type": "code",
   "execution_count": 2,
   "metadata": {},
   "outputs": [],
   "source": [
    "import math\n",
    "import numpy as np\n",
    "from scipy.integrate import odeint\n",
    "import matplotlib.pyplot as plt"
   ]
  },
  {
   "cell_type": "code",
   "execution_count": 3,
   "metadata": {},
   "outputs": [],
   "source": [
    "x0 = 28\n",
    "N = 2020"
   ]
  },
  {
   "cell_type": "code",
   "execution_count": 35,
   "metadata": {},
   "outputs": [],
   "source": [
    "t0 = 0\n",
    "tmax = 15\n",
    "dt = 0.01\n",
    "t = np.arange(t0, tmax, dt)"
   ]
  },
  {
   "cell_type": "code",
   "execution_count": 40,
   "metadata": {},
   "outputs": [],
   "source": [
    "def f1(t):\n",
    "    x1 = 0.99\n",
    "    return x1\n",
    "\n",
    "def f2(t):\n",
    "    x1 = 0.000099\n",
    "    return x1\n",
    "\n",
    "def f3(t):\n",
    "    x1 = 0.9*np.sin(0.9*(t))\n",
    "    return x1"
   ]
  },
  {
   "cell_type": "code",
   "execution_count": 42,
   "metadata": {},
   "outputs": [],
   "source": [
    "def f11(t):\n",
    "    x2 = 0.00009\n",
    "    return x2\n",
    "\n",
    "def f22(t):\n",
    "    x2 = 0.9\n",
    "    return x2\n",
    "\n",
    "def f33(t):\n",
    "    x2 = 0.99*np.cos(0.99*(t))\n",
    "    return x2"
   ]
  },
  {
   "cell_type": "code",
   "execution_count": 43,
   "metadata": {},
   "outputs": [],
   "source": [
    "def f111(x,t):\n",
    "    func = (f1(t) + f11(t)*x)*(N - x)\n",
    "    return func\n",
    "\n",
    "def f222(x,t):\n",
    "    func = (f2(t) + f22(t)*x)*(N - x)\n",
    "    return func\n",
    "\n",
    "def f333(x,t):\n",
    "    func = (f3(t) + f33(t)*x)*(N - x)\n",
    "    return func"
   ]
  },
  {
   "cell_type": "code",
   "execution_count": 44,
   "metadata": {},
   "outputs": [],
   "source": [
    "y1 = odeint(f111, x0, t)\n",
    "y2 = odeint(f222, x0, t)\n",
    "y3 = odeint(f333, x0, t)"
   ]
  },
  {
   "cell_type": "code",
   "execution_count": 45,
   "metadata": {},
   "outputs": [
    {
     "data": {
      "text/plain": [
       "[<matplotlib.lines.Line2D at 0x249e54b11c0>]"
      ]
     },
     "execution_count": 45,
     "metadata": {},
     "output_type": "execute_result"
    },
    {
     "data": {
      "image/png": "[encoded data removed]",
      "text/plain": [
       "<Figure size 432x288 with 1 Axes>"
      ]
     },
     "metadata": {
      "needs_background": "light"
     },
     "output_type": "display_data"
    }
   ],
   "source": [
    "plt.plot(t, y1)\n",
    "plt.plot(t, y2)\n",
    "plt.plot(t, y3)"
   ]
  },
  {
   "cell_type": "code",
   "execution_count": null,
   "metadata": {},
   "outputs": [],
   "source": []
  }
 ],
 "metadata": {
  "kernelspec": {
   "display_name": "Python 3",
   "language": "python",
   "name": "python3"
  },
  "language_info": {
   "codemirror_mode": {
    "name": "ipython",
    "version": 3
   },
   "file_extension": ".py",
   "mimetype": "text/x-python",
   "name": "python",
   "nbconvert_exporter": "python",
   "pygments_lexer": "ipython3",
   "version": "3.8.5"
  }
 },
 "nbformat": 4,
 "nbformat_minor": 4
}

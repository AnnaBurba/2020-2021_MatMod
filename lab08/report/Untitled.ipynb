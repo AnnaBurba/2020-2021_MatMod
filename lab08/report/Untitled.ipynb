{
 "cells": [
  {
   "cell_type": "code",
   "execution_count": 1,
   "metadata": {},
   "outputs": [],
   "source": [
    "#Бурба Анна, НПИбд-02-18, 1032182598"
   ]
  },
  {
   "cell_type": "code",
   "execution_count": 2,
   "metadata": {},
   "outputs": [],
   "source": [
    "import math\n",
    "import numpy as np\n",
    "from scipy.integrate import odeint\n",
    "import matplotlib.pyplot as plt"
   ]
  },
  {
   "cell_type": "code",
   "execution_count": 7,
   "metadata": {},
   "outputs": [],
   "source": [
    "M1 = 5.4\n",
    "M2 = 5.1\n",
    "xM = [M1, M2]\n",
    "\n",
    "P = 27\n",
    "N = 30\n",
    "q = 1\n",
    "\n",
    "ci1 = 8\n",
    "ci2 = 9\n",
    "\n",
    "p1 = 13\n",
    "p2 = 10.1"
   ]
  },
  {
   "cell_type": "code",
   "execution_count": 8,
   "metadata": {},
   "outputs": [],
   "source": [
    "t0 = 0\n",
    "tmax = 100\n",
    "dt = 0.01\n",
    "t = np.arange(t0, tmax, dt)"
   ]
  },
  {
   "cell_type": "code",
   "execution_count": 9,
   "metadata": {},
   "outputs": [],
   "source": [
    "a1 = P/(ci1*ci1*p1*p1*N*q)\n",
    "a2 = P/(ci2*ci2*p2*p2*N*q)\n",
    "\n",
    "b = P/(ci1*ci1*ci2*ci2*p1*p1*p2*p2*N*q)\n",
    "\n",
    "c1 = (P-p1)/(ci1*p1)\n",
    "c2 = (P-p2)/(ci2*p2)"
   ]
  },
  {
   "cell_type": "code",
   "execution_count": 10,
   "metadata": {},
   "outputs": [],
   "source": [
    "def func1(x,t):\n",
    "    dx1 = (c1/c1)*x[0] - (a1/c1)*x[0]*x[0] - (b/c1)*x[0]*x[1]\n",
    "    dx2 = (c2/c1)*x[1] - (a2/c1)*x[1]*x[1] - (b/c1)*x[0]*x[1]\n",
    "    return dx1, dx2\n",
    "\n",
    "def func2(x,t):\n",
    "    dx1 = x[0] - (b/c1 + 0.00029)*x[0]*x[1] - (a1/c1)*x[0]*x[0] \n",
    "    dx2 = (c2/c1)*x[1] - (b/c1)*x[0]*x[1] - (a2/c1)*x[1]*x[1] \n",
    "    return dx1, dx2"
   ]
  },
  {
   "cell_type": "code",
   "execution_count": 12,
   "metadata": {},
   "outputs": [],
   "source": [
    "f1 = odeint(func1, xM, t)\n",
    "f2 = odeint(func2, xM, t)"
   ]
  },
  {
   "cell_type": "code",
   "execution_count": 13,
   "metadata": {},
   "outputs": [
    {
     "name": "stdout",
     "output_type": "stream",
     "text": [
      "1617.5712196642003 1706.750446447886\n"
     ]
    }
   ],
   "source": [
    "#stac sost\n",
    "m1 = (a2*c1-b*c2)/(a1*a2-b*b)\n",
    "m2 = (a1*c2-b*c1)/(a1*a2-b*b)\n",
    "print(m1, m2)\n"
   ]
  },
  {
   "cell_type": "code",
   "execution_count": 15,
   "metadata": {},
   "outputs": [
    {
     "data": {
      "image/png": "[encoded data removed]",
      "text/plain": [
       "<Figure size 432x288 with 1 Axes>"
      ]
     },
     "metadata": {
      "needs_background": "light"
     },
     "output_type": "display_data"
    }
   ],
   "source": [
    "plt.plot(t, f1[:,0], label= 'pervaya firma')\n",
    "plt.plot(t, f1[:,1], label= 'vtoraya firma')\n",
    "plt.grid()"
   ]
  },
  {
   "cell_type": "code",
   "execution_count": 16,
   "metadata": {},
   "outputs": [
    {
     "data": {
      "image/png": "[encoded data removed]",
      "text/plain": [
       "<Figure size 432x288 with 1 Axes>"
      ]
     },
     "metadata": {
      "needs_background": "light"
     },
     "output_type": "display_data"
    }
   ],
   "source": [
    "plt.plot(t, f2[:,0], label= 'pervaya firma')\n",
    "plt.plot(t, f2[:,1], label= 'vtoraya firma')\n",
    "plt.grid()"
   ]
  },
  {
   "cell_type": "code",
   "execution_count": null,
   "metadata": {},
   "outputs": [],
   "source": []
  }
 ],
 "metadata": {
  "kernelspec": {
   "display_name": "Python 3",
   "language": "python",
   "name": "python3"
  },
  "language_info": {
   "codemirror_mode": {
    "name": "ipython",
    "version": 3
   },
   "file_extension": ".py",
   "mimetype": "text/x-python",
   "name": "python",
   "nbconvert_exporter": "python",
   "pygments_lexer": "ipython3",
   "version": "3.8.5"
  }
 },
 "nbformat": 4,
 "nbformat_minor": 4
}
